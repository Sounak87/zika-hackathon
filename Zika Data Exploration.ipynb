{
 "cells": [
  {
   "cell_type": "code",
   "execution_count": null,
   "metadata": {
    "collapsed": false
   },
   "outputs": [],
   "source": [
    "import pandas as pd"
   ]
  },
  {
   "cell_type": "code",
   "execution_count": null,
   "metadata": {
    "collapsed": false
   },
   "outputs": [],
   "source": [
    "texas_county_df = pd.read_excel(\"texas-data.xls\", sheetname=\"Zika Texas\", header=7)[['County', 'Case Counts']]\n",
    "texas_county_df.columns = ['county', 'case_counts']\n",
    "texas_county_df.to_csv(\"data/texas_data_county.csv\", index=False, encoding='utf-8')"
   ]
  },
  {
   "cell_type": "code",
   "execution_count": null,
   "metadata": {
    "collapsed": false
   },
   "outputs": [],
   "source": [
    "cdc_may_16_countries_df = pd.read_excel(\"cdc-data.xls\", sheetname=\"cdc 9-May-2016\", header=7)[['Countries']]\n",
    "cdc_may_16_countries_df.to_csv(\"data/CDC_May_2016_Countries.csv\", index=False, encoding='utf-8')"
   ]
  },
  {
   "cell_type": "code",
   "execution_count": null,
   "metadata": {
    "collapsed": false,
    "scrolled": true
   },
   "outputs": [],
   "source": [
    "cdc_may_16_us_df = pd.read_excel(\"cdc-data.xls\", sheetname=\"cdc US 4-May-2016\", header=7)\n",
    "cdc_may_16_us_df.drop(['Data', 'Map'], axis = 1, inplace=True)\n",
    "cdc_may_16_us_df.drop([0, 1, 44, 45], axis = 0, inplace=True)\n",
    "cdc_may_16_us_df.columns = ['states', 'travel_cases', 'local_cases']\n",
    "cdc_may_16_us_df"
   ]
  },
  {
   "cell_type": "code",
   "execution_count": null,
   "metadata": {
    "collapsed": false
   },
   "outputs": [],
   "source": [
    "cdc_may_16_us_df['travel_cases'] = cdc_may_16_us_df['travel_cases'].apply(lambda x: x.split()[0])\n",
    "cdc_may_16_us_df['local_cases'] = cdc_may_16_us_df['local_cases'].apply(lambda x: x.split()[0])\n",
    "cdc_may_16_us_df"
   ]
  },
  {
   "cell_type": "code",
   "execution_count": null,
   "metadata": {
    "collapsed": false
   },
   "outputs": [],
   "source": [
    "cdc_may_16_us_df.to_csv(\"data/CDC_May_2016_US.csv\", index=False)"
   ]
  },
  {
   "cell_type": "code",
   "execution_count": null,
   "metadata": {
    "collapsed": false
   },
   "outputs": [],
   "source": [
    "occurrence = pd.read_csv(\"GBIF Mosquito Occurrence Dataset.csv\", sep=\"\\t\")\n",
    "occurrence.columns"
   ]
  },
  {
   "cell_type": "markdown",
   "metadata": {},
   "source": [
    "Should we only consider certain genuses or species?"
   ]
  },
  {
   "cell_type": "code",
   "execution_count": null,
   "metadata": {
    "collapsed": false
   },
   "outputs": [],
   "source": [
    "occurrence.groupby(['genus', 'species'])['datasetkey'].count()"
   ]
  },
  {
   "cell_type": "markdown",
   "metadata": {},
   "source": [
    "There is a wide range of years of observation. Should we focus on a certain range?"
   ]
  },
  {
   "cell_type": "code",
   "execution_count": null,
   "metadata": {
    "collapsed": false
   },
   "outputs": [],
   "source": [
    "occurrence.groupby(['locality', 'year'])['datasetkey'].count()"
   ]
  },
  {
   "cell_type": "code",
   "execution_count": null,
   "metadata": {
    "collapsed": false
   },
   "outputs": [],
   "source": [
    "occurrence.groupby('year')['datasetkey'].count()"
   ]
  },
  {
   "cell_type": "code",
   "execution_count": null,
   "metadata": {
    "collapsed": false
   },
   "outputs": [],
   "source": [
    "occurrence[[u'eventdate', u'day', u'month', u'year', u'locality']][occurrence.year < 1900]"
   ]
  },
  {
   "cell_type": "code",
   "execution_count": null,
   "metadata": {
    "collapsed": true
   },
   "outputs": [],
   "source": []
  }
 ],
 "metadata": {
  "kernelspec": {
   "display_name": "Python 2",
   "language": "python",
   "name": "python2"
  },
  "language_info": {
   "codemirror_mode": {
    "name": "ipython",
    "version": 2
   },
   "file_extension": ".py",
   "mimetype": "text/x-python",
   "name": "python",
   "nbconvert_exporter": "python",
   "pygments_lexer": "ipython2",
   "version": "2.7.6"
  }
 },
 "nbformat": 4,
 "nbformat_minor": 0
}
